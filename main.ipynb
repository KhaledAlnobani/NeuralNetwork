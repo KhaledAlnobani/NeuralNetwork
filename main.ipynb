{
 "cells": [
  {
   "cell_type": "code",
   "execution_count": null,
   "id": "de7f32fd",
   "metadata": {},
   "outputs": [],
   "source": [
    "import numpy as np\n",
    "import matplotlib.pyplot as plt\n",
    "from layer.dense import Dense\n",
    "from layer.conv import Conv2D\n",
    "from layer.pooling import Pooling\n",
    "from model import Sequential\n",
    "from optimizers import Adam, RMSprop, SGD\n",
    "from utils import *\n",
    "from layer.flatten import Flatten\n"
   ]
  },
  {
   "cell_type": "code",
   "execution_count": null,
   "id": "c54381e9",
   "metadata": {},
   "outputs": [],
   "source": [
    "# Only a small subset of data is used because the goal is to implement and test \n",
    "# the model structure and training pipeline — not to achieve high accuracy."
   ]
  },
  {
   "cell_type": "code",
   "execution_count": null,
   "id": "5ff69a42",
   "metadata": {},
   "outputs": [],
   "source": [
    "X_train, y_train, X_test, y_test = load_mnist_full()\n",
    "\n",
    "X_train, y_train, X_val, y_val = train_test_split(X_train, y_train, test_size=0.2, random_state=42)\n",
    "\n",
    "X_train, y_train = X_train[:500], y_train[:500]\n",
    "X_val, y_val = X_val[:200], y_val[:200]\n",
    "X_test, y_test = X_test[:50], y_test[:50]\n"
   ]
  },
  {
   "cell_type": "code",
   "execution_count": null,
   "id": "610e9cd0",
   "metadata": {},
   "outputs": [],
   "source": [
    "model = Sequential([\n",
    "    Conv2D(num_filters=5, filter_shape=(3,3), padding=\"same\", activation=\"relu\"),\n",
    "    Pooling(mode=\"max\", pool_size=2, stride=2),\n",
    "    Conv2D(num_filters=5, filter_shape=(3,3), padding=\"valid\", activation=\"relu\"),\n",
    "    Pooling(mode=\"max\", pool_size=2, stride=2),\n",
    "    Flatten(),\n",
    "    # Dense( 128, activation=\"relu\"), \n",
    "    Dense( 64, activation=\"relu\"),  \n",
    " \n",
    "    Dense( 10, activation=\"softmax\")\n",
    "])\n"
   ]
  },
  {
   "cell_type": "code",
   "execution_count": null,
   "id": "80a4712e",
   "metadata": {},
   "outputs": [],
   "source": [
    "model.compile(optimizer=Adam(learning_rate=0.01),\n",
    "                loss='categorical_cross_entropy',)"
   ]
  },
  {
   "cell_type": "code",
   "execution_count": null,
   "id": "0d7e5b46",
   "metadata": {},
   "outputs": [],
   "source": [
    "history = model.fit(X_train, y_train, \n",
    "                    validation_data=(X_val, y_val),\n",
    "                    epochs=15, \n",
    "                    batch_size=32)\n"
   ]
  },
  {
   "cell_type": "code",
   "execution_count": null,
   "id": "25a0a022",
   "metadata": {},
   "outputs": [],
   "source": [
    "plot_training_history(history)\n"
   ]
  },
  {
   "cell_type": "code",
   "execution_count": null,
   "id": "98e80e32",
   "metadata": {},
   "outputs": [],
   "source": [
    "y_pred = model.predict(X_test)\n",
    "test_accuracy = accuracy(np.argmax(y_pred, axis=1), np.argmax(y_test, axis=1))\n",
    "print(f\"Test Accuracy: {test_accuracy:.2f}%\")\n",
    "y_pred = model.predict(X_train)\n",
    "train_accuracy = accuracy(np.argmax(y_pred, axis=1), np.argmax(y_train, axis=1))\n",
    "print(f\"Train Accuracy: {train_accuracy:.2f}%\")"
   ]
  },
  {
   "cell_type": "code",
   "execution_count": null,
   "id": "f8fedaa9",
   "metadata": {},
   "outputs": [],
   "source": [
    "print(\"\\nSample predictions:\")\n",
    "visualize_predictions(model, X_test[:5], y_test[:5], num_samples=5)\n"
   ]
  },
  {
   "cell_type": "code",
   "execution_count": null,
   "id": "718a21eb",
   "metadata": {},
   "outputs": [],
   "source": [
    "#The goal of this project is **not** to achieve state-of-the-art accuracy or to train a production-level model,\n",
    "# but rather to ensure correct and modular implementation of deep learning layers and training pipeline logic.\n"
   ]
  },
  {
   "cell_type": "code",
   "execution_count": null,
   "id": "f1a829e1",
   "metadata": {},
   "outputs": [],
   "source": []
  }
 ],
 "metadata": {
  "kernelspec": {
   "display_name": ".venv",
   "language": "python",
   "name": "python3"
  },
  "language_info": {
   "codemirror_mode": {
    "name": "ipython",
    "version": 3
   },
   "file_extension": ".py",
   "mimetype": "text/x-python",
   "name": "python",
   "nbconvert_exporter": "python",
   "pygments_lexer": "ipython3",
   "version": "3.12.2"
  }
 },
 "nbformat": 4,
 "nbformat_minor": 5
}
